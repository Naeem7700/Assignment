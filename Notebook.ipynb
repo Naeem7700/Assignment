{
 "cells": [
  {
   "cell_type": "markdown",
   "id": "bd86193c",
   "metadata": {},
   "source": [
    "Notebook"
   ]
  },
  {
   "cell_type": "markdown",
   "id": "ca32e9c9",
   "metadata": {},
   "source": [
    "Introduction"
   ]
  },
  {
   "cell_type": "markdown",
   "id": "08883da2",
   "metadata": {},
   "source": [
    "DataScience Languages \n",
    "1) Python \n",
    "2) R \n",
    "3) SQL\n",
    "4) Julia "
   ]
  },
  {
   "cell_type": "markdown",
   "id": "b14e4dfe",
   "metadata": {},
   "source": [
    "Data Science Libraries:\n",
    "- NumPy\n",
    "- Pandas\n",
    "- Matplotlib\n",
    "- Scikit-Learn\n"
   ]
  },
  {
   "cell_type": "markdown",
   "id": "7b190dcd",
   "metadata": {},
   "source": [
    "  | Tool Name    | Description           |\n",
    "  |--------------|-----------------------|\n",
    "  | Jupyter      | Interactive notebooks |\n",
    "  | TensorFlow   | Deep learning library  |\n",
    "  | Tableau      | Data visualization     |\n"
   ]
  },
  {
   "cell_type": "markdown",
   "id": "5eaa8842",
   "metadata": {},
   "source": [
    "Arthematic Expressions \n",
    "- a + b (addition)\n",
    "- a-b (subtraction)\n",
    "- a*b (Multiplication)\n",
    "- a/b (Division)"
   ]
  },
  {
   "cell_type": "code",
   "execution_count": 1,
   "id": "b7f0aa32",
   "metadata": {},
   "outputs": [
    {
     "data": {
      "text/plain": [
       "(15, 8)"
      ]
     },
     "execution_count": 1,
     "metadata": {},
     "output_type": "execute_result"
    }
   ],
   "source": [
    "a = 5\n",
    "b = 3\n",
    "result_multiply = a * b\n",
    "result_add = a + b\n",
    "result_multiply, result_add\n"
   ]
  },
  {
   "cell_type": "code",
   "execution_count": 2,
   "id": "f9787226",
   "metadata": {},
   "outputs": [
    {
     "data": {
      "text/plain": [
       "2.0"
      ]
     },
     "execution_count": 2,
     "metadata": {},
     "output_type": "execute_result"
    }
   ],
   "source": [
    "minutes = 120\n",
    "hours = minutes / 60\n",
    "hours\n"
   ]
  },
  {
   "cell_type": "markdown",
   "id": "274fe479",
   "metadata": {},
   "source": [
    "Objectives:\n",
    "- Explore basic arithmetic operations\n",
    "- Introduce data science concepts\n",
    "- Showcase code examples\n"
   ]
  },
  {
   "cell_type": "markdown",
   "id": "52bca211",
   "metadata": {},
   "source": [
    "Author: King"
   ]
  },
  {
   "cell_type": "code",
   "execution_count": null,
   "id": "d0e67671",
   "metadata": {},
   "outputs": [],
   "source": []
  }
 ],
 "metadata": {
  "kernelspec": {
   "display_name": "Python 3 (ipykernel)",
   "language": "python",
   "name": "python3"
  },
  "language_info": {
   "codemirror_mode": {
    "name": "ipython",
    "version": 3
   },
   "file_extension": ".py",
   "mimetype": "text/x-python",
   "name": "python",
   "nbconvert_exporter": "python",
   "pygments_lexer": "ipython3",
   "version": "3.9.13"
  }
 },
 "nbformat": 4,
 "nbformat_minor": 5
}
